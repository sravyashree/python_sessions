{
 "cells": [
  {
   "cell_type": "code",
   "execution_count": null,
   "id": "a2b9e598",
   "metadata": {},
   "outputs": [],
   "source": [
    "main code base: main branch\n",
    "dev code base: development branch\n",
    "sandbox code base:sandbox branch"
   ]
  },
  {
   "cell_type": "code",
   "execution_count": null,
   "id": "0261a618",
   "metadata": {},
   "outputs": [],
   "source": [
    "clinet talk to u===\n",
    "you immediatly start on sand box branch\n",
    "sandbox :manager and team lead client \n",
    "    EDA.py in the sandbox\n",
    "    strings=====for loop\n",
    "    list comprehension\n",
    "dev branch:eda.py best code than sandbox \n",
    "    lots of testing finally every one agree\n",
    "main branch====>manager and lead client"
   ]
  },
  {
   "cell_type": "code",
   "execution_count": null,
   "id": "5bd9565c",
   "metadata": {},
   "outputs": [],
   "source": [
    "no one will send the code through email id\n",
    "they will send through github"
   ]
  },
  {
   "cell_type": "code",
   "execution_count": null,
   "id": "50a3d007",
   "metadata": {},
   "outputs": [],
   "source": [
    "clone===========>repository\n",
    "    git clone===>download the filess\n",
    "                 from repository"
   ]
  },
  {
   "cell_type": "code",
   "execution_count": null,
   "id": "37627f44",
   "metadata": {},
   "outputs": [],
   "source": [
    "git account\n",
    "git bash"
   ]
  },
  {
   "cell_type": "code",
   "execution_count": null,
   "id": "65c08532",
   "metadata": {},
   "outputs": [],
   "source": [
    "open command prompt"
   ]
  },
  {
   "cell_type": "code",
   "execution_count": null,
   "id": "921f0d90",
   "metadata": {},
   "outputs": [],
   "source": [
    "CI CD"
   ]
  },
  {
   "cell_type": "code",
   "execution_count": null,
   "id": "557d6e92",
   "metadata": {},
   "outputs": [],
   "source": []
  },
  {
   "cell_type": "code",
   "execution_count": null,
   "id": "c2a4a86b",
   "metadata": {},
   "outputs": [],
   "source": []
  },
  {
   "cell_type": "code",
   "execution_count": null,
   "id": "cd5f84b2",
   "metadata": {},
   "outputs": [],
   "source": []
  },
  {
   "cell_type": "code",
   "execution_count": null,
   "id": "9fea1e1d",
   "metadata": {},
   "outputs": [],
   "source": []
  },
  {
   "cell_type": "code",
   "execution_count": null,
   "id": "d3c6abd1",
   "metadata": {},
   "outputs": [],
   "source": []
  },
  {
   "cell_type": "code",
   "execution_count": null,
   "id": "a18bd0ef",
   "metadata": {},
   "outputs": [],
   "source": []
  }
 ],
 "metadata": {
  "kernelspec": {
   "display_name": "Python 3 (ipykernel)",
   "language": "python",
   "name": "python3"
  },
  "language_info": {
   "codemirror_mode": {
    "name": "ipython",
    "version": 3
   },
   "file_extension": ".py",
   "mimetype": "text/x-python",
   "name": "python",
   "nbconvert_exporter": "python",
   "pygments_lexer": "ipython3",
   "version": "3.11.5"
  }
 },
 "nbformat": 4,
 "nbformat_minor": 5
}
